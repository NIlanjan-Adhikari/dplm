{
 "cells": [
  {
   "cell_type": "code",
   "execution_count": 1,
   "metadata": {},
   "outputs": [],
   "source": [
    "import seaborn as sns\n",
    "import matplotlib.pyplot as plt\n",
    "import pandas as pd\n",
    "import os\n",
    "import glob"
   ]
  },
  {
   "cell_type": "markdown",
   "metadata": {},
   "source": [
    "# Process the pdb file and summarize overall results to csv file"
   ]
  },
  {
   "cell_type": "code",
   "execution_count": 3,
   "metadata": {},
   "outputs": [
    {
     "name": "stderr",
     "output_type": "stream",
     "text": [
      "/tmp/ipykernel_10800/1838829422.py:19: DeprecationWarning: DataFrameGroupBy.apply operated on the grouping columns. This behavior is deprecated, and in a future version of pandas the grouping columns will be excluded from the operation. Either pass `include_groups=False` to exclude the groupings or explicitly select the grouping columns after groupby to silence this warning.\n",
      "  plddt_df = plddt_df.groupby('length', group_keys=False).apply(lambda x: x.sort_values('seq_idx'))\n"
     ]
    },
    {
     "data": {
      "text/html": [
       "<div>\n",
       "<style scoped>\n",
       "    .dataframe tbody tr th:only-of-type {\n",
       "        vertical-align: middle;\n",
       "    }\n",
       "\n",
       "    .dataframe tbody tr th {\n",
       "        vertical-align: top;\n",
       "    }\n",
       "\n",
       "    .dataframe thead th {\n",
       "        text-align: right;\n",
       "    }\n",
       "</style>\n",
       "<table border=\"1\" class=\"dataframe\">\n",
       "  <thead>\n",
       "    <tr style=\"text-align: right;\">\n",
       "      <th></th>\n",
       "      <th>seq_idx</th>\n",
       "      <th>length</th>\n",
       "      <th>plddt</th>\n",
       "    </tr>\n",
       "  </thead>\n",
       "  <tbody>\n",
       "    <tr>\n",
       "      <th>0</th>\n",
       "      <td>0</td>\n",
       "      <td>100</td>\n",
       "      <td>73.436035</td>\n",
       "    </tr>\n",
       "    <tr>\n",
       "      <th>11</th>\n",
       "      <td>1</td>\n",
       "      <td>100</td>\n",
       "      <td>85.358810</td>\n",
       "    </tr>\n",
       "    <tr>\n",
       "      <th>22</th>\n",
       "      <td>2</td>\n",
       "      <td>100</td>\n",
       "      <td>47.136200</td>\n",
       "    </tr>\n",
       "    <tr>\n",
       "      <th>33</th>\n",
       "      <td>3</td>\n",
       "      <td>100</td>\n",
       "      <td>43.678627</td>\n",
       "    </tr>\n",
       "    <tr>\n",
       "      <th>34</th>\n",
       "      <td>4</td>\n",
       "      <td>100</td>\n",
       "      <td>74.624428</td>\n",
       "    </tr>\n",
       "    <tr>\n",
       "      <th>...</th>\n",
       "      <td>...</td>\n",
       "      <td>...</td>\n",
       "      <td>...</td>\n",
       "    </tr>\n",
       "    <tr>\n",
       "      <th>188</th>\n",
       "      <td>35</td>\n",
       "      <td>500</td>\n",
       "      <td>94.508049</td>\n",
       "    </tr>\n",
       "    <tr>\n",
       "      <th>189</th>\n",
       "      <td>36</td>\n",
       "      <td>500</td>\n",
       "      <td>91.406937</td>\n",
       "    </tr>\n",
       "    <tr>\n",
       "      <th>190</th>\n",
       "      <td>37</td>\n",
       "      <td>500</td>\n",
       "      <td>82.436523</td>\n",
       "    </tr>\n",
       "    <tr>\n",
       "      <th>191</th>\n",
       "      <td>38</td>\n",
       "      <td>500</td>\n",
       "      <td>87.450317</td>\n",
       "    </tr>\n",
       "    <tr>\n",
       "      <th>192</th>\n",
       "      <td>39</td>\n",
       "      <td>500</td>\n",
       "      <td>94.210419</td>\n",
       "    </tr>\n",
       "  </tbody>\n",
       "</table>\n",
       "<p>200 rows × 3 columns</p>\n",
       "</div>"
      ],
      "text/plain": [
       "     seq_idx  length      plddt\n",
       "0          0     100  73.436035\n",
       "11         1     100  85.358810\n",
       "22         2     100  47.136200\n",
       "33         3     100  43.678627\n",
       "34         4     100  74.624428\n",
       "..       ...     ...        ...\n",
       "188       35     500  94.508049\n",
       "189       36     500  91.406937\n",
       "190       37     500  82.436523\n",
       "191       38     500  87.450317\n",
       "192       39     500  94.210419\n",
       "\n",
       "[200 rows x 3 columns]"
      ]
     },
     "execution_count": 3,
     "metadata": {},
     "output_type": "execute_result"
    }
   ],
   "source": [
    "output_dir = \"generation-results/dplm_650m\"\n",
    "\n",
    "plddt_dict = {\n",
    "    'seq_idx': [],\n",
    "    'length': [],\n",
    "    'plddt': []\n",
    "}\n",
    "\n",
    "for pdb_foldername in os.listdir(os.path.join(output_dir, 'esmfold_pdb')):\n",
    "    length = pdb_foldername.split('_')[3]\n",
    "    for pdb_filename in os.listdir(os.path.join(output_dir, f'esmfold_pdb/{pdb_foldername}')):\n",
    "        seq_idx = pdb_filename.split('_')[1]\n",
    "        plddt = pdb_filename.split('_')[-1][:-4]\n",
    "        plddt_dict['seq_idx'].append(int(seq_idx))\n",
    "        plddt_dict['length'].append(int(length))\n",
    "        plddt_dict['plddt'].append(float(plddt))\n",
    "    \n",
    "plddt_df = pd.DataFrame(plddt_dict).sort_values('length')\n",
    "plddt_df = plddt_df.groupby('length', group_keys=False).apply(lambda x: x.sort_values('seq_idx'))\n",
    "plddt_df.to_csv(os.path.join(output_dir, 'result.csv'))\n",
    "plddt_df\n",
    "\n",
    "    "
   ]
  },
  {
   "cell_type": "markdown",
   "metadata": {},
   "source": [
    "# Lineplot according to the sequence length"
   ]
  },
  {
   "cell_type": "code",
   "execution_count": 4,
   "metadata": {},
   "outputs": [
    {
     "data": {
      "text/html": [
       "<div>\n",
       "<style scoped>\n",
       "    .dataframe tbody tr th:only-of-type {\n",
       "        vertical-align: middle;\n",
       "    }\n",
       "\n",
       "    .dataframe tbody tr th {\n",
       "        vertical-align: top;\n",
       "    }\n",
       "\n",
       "    .dataframe thead th {\n",
       "        text-align: right;\n",
       "    }\n",
       "</style>\n",
       "<table border=\"1\" class=\"dataframe\">\n",
       "  <thead>\n",
       "    <tr style=\"text-align: right;\">\n",
       "      <th></th>\n",
       "      <th>length</th>\n",
       "      <th>plddt</th>\n",
       "      <th>model</th>\n",
       "    </tr>\n",
       "  </thead>\n",
       "  <tbody>\n",
       "    <tr>\n",
       "      <th>0</th>\n",
       "      <td>100</td>\n",
       "      <td>70.241217</td>\n",
       "      <td>dplm_650m</td>\n",
       "    </tr>\n",
       "    <tr>\n",
       "      <th>1</th>\n",
       "      <td>200</td>\n",
       "      <td>83.125927</td>\n",
       "      <td>dplm_650m</td>\n",
       "    </tr>\n",
       "    <tr>\n",
       "      <th>2</th>\n",
       "      <td>300</td>\n",
       "      <td>85.899873</td>\n",
       "      <td>dplm_650m</td>\n",
       "    </tr>\n",
       "    <tr>\n",
       "      <th>3</th>\n",
       "      <td>400</td>\n",
       "      <td>84.032781</td>\n",
       "      <td>dplm_650m</td>\n",
       "    </tr>\n",
       "    <tr>\n",
       "      <th>4</th>\n",
       "      <td>500</td>\n",
       "      <td>83.599222</td>\n",
       "      <td>dplm_650m</td>\n",
       "    </tr>\n",
       "  </tbody>\n",
       "</table>\n",
       "</div>"
      ],
      "text/plain": [
       "   length      plddt      model\n",
       "0     100  70.241217  dplm_650m\n",
       "1     200  83.125927  dplm_650m\n",
       "2     300  85.899873  dplm_650m\n",
       "3     400  84.032781  dplm_650m\n",
       "4     500  83.599222  dplm_650m"
      ]
     },
     "execution_count": 4,
     "metadata": {},
     "output_type": "execute_result"
    }
   ],
   "source": [
    "output_dir_list = [\"generation-results/dplm_650m/result.csv\"]\n",
    "model_name_list = ['dplm_650m']\n",
    "plddt_df_list = []\n",
    "for i, output_dir in enumerate(output_dir_list):\n",
    "    plddt_df = pd.read_csv(output_dir)\n",
    "    plddt_df = plddt_df.groupby('length', as_index=False)['plddt'].mean()\n",
    "    plddt_df['model'] = model_name_list[i]\n",
    "    plddt_df_list.append(plddt_df)\n",
    "plddt_df = pd.concat(plddt_df_list, ignore_index=True)\n",
    "plddt_df"
   ]
  },
  {
   "cell_type": "code",
   "execution_count": 5,
   "metadata": {},
   "outputs": [
    {
     "data": {
      "image/png": "[encoded data removed]",
      "text/plain": [
       "<Figure size 640x480 with 1 Axes>"
      ]
     },
     "metadata": {},
     "output_type": "display_data"
    }
   ],
   "source": [
    "# Create scatter plot\n",
    "palette_candidate = ['#EECF73', '#5FB1A5', '#F9633D']\n",
    "palette = [palette_candidate[i] for i in range(len(model_name_list))]\n",
    "markers_candidate = ['o', 'v', 's']\n",
    "markers = [markers_candidate[i] for i in range(len(model_name_list))]\n",
    "# palette = ['#8dd3c7', '#80b1d3', '#bebada']\n",
    "sns.lineplot(data=plddt_df, x='length', y='plddt', hue='model', style='model', markers=markers,\n",
    "             markersize=10, dashes=False, palette=palette)\n",
    "\n",
    "# Adding labels and title\n",
    "plt.xlabel('Length', fontdict={'size': 18})\n",
    "plt.ylabel('pLDDT', fontdict={'size': 18})\n",
    "plt.xticks(size=14)\n",
    "plt.yticks(size=14)\n",
    "plt.tight_layout()\n",
    "plt.legend(title=None, prop={'size': 15})\n",
    "\n",
    "# Show plot\n",
    "plt.show()"
   ]
  },
  {
   "cell_type": "markdown",
   "metadata": {},
   "source": [
    "# Diversity Analysis"
   ]
  },
  {
   "cell_type": "code",
   "execution_count": 29,
   "metadata": {},
   "outputs": [],
   "source": [
    "df_length = []\n",
    "def load_tmscore(eval_dir):\n",
    "    dfs = []\n",
    "    for path in glob.glob(eval_dir + \"/**/inter_tmscore.csv\"):\n",
    "        print(path)\n",
    "        df = pd.read_csv(path)\n",
    "        length = path.split('/')[-2].split('_')[-1]\n",
    "        df['length'] = [length] * len(df)\n",
    "        dfs.append(df)\n",
    "    df_cat = pd.concat(dfs)\n",
    "    df_cat = df_cat.sort_values(\"length\")\n",
    "    return df_cat"
   ]
  },
  {
   "cell_type": "code",
   "execution_count": 31,
   "metadata": {},
   "outputs": [
    {
     "name": "stdout",
     "output_type": "stream",
     "text": [
      "../generation-results/dplm_650m/diversity/iter_500_L_100/inter_tmscore.csv\n",
      "../generation-results/dplm_650m/diversity/iter_500_L_200/inter_tmscore.csv\n",
      "../generation-results/dplm_650m/diversity/iter_500_L_300/inter_tmscore.csv\n",
      "../generation-results/dplm_650m/diversity/iter_500_L_400/inter_tmscore.csv\n",
      "../generation-results/dplm_650m/diversity/iter_500_L_500/inter_tmscore.csv\n"
     ]
    },
    {
     "name": "stderr",
     "output_type": "stream",
     "text": [
      "/tmp/ipykernel_13209/836779224.py:6: DeprecationWarning: DataFrameGroupBy.apply operated on the grouping columns. This behavior is deprecated, and in a future version of pandas the grouping columns will be excluded from the operation. Either pass `include_groups=False` to exclude the groupings or explicitly select the grouping columns after groupby to silence this warning.\n",
      "  df = df_cat.groupby('length').apply(lambda x: x['tm_scores_mean'].mean())\n",
      "/tmp/ipykernel_13209/836779224.py:10: FutureWarning: \n",
      "\n",
      "Passing `palette` without assigning `hue` is deprecated and will be removed in v0.14.0. Assign the `x` variable to `hue` and set `legend=False` for the same effect.\n",
      "\n",
      "  sns.barplot(x='length', y='inner-TM', data=df, palette=\"Spectral\", edgecolor=\"black\")\n"
     ]
    },
    {
     "data": {
      "image/png": "[encoded data removed]",
      "text/plain": [
       "<Figure size 640x480 with 1 Axes>"
      ]
     },
     "metadata": {},
     "output_type": "display_data"
    }
   ],
   "source": [
    "dir_path = \"../generation-results/dplm_650m/diversity\"\n",
    "df_cat = load_tmscore(dir_path)\n",
    "df_cat['tm_scores'] = df_cat['tm_scores'].apply(lambda x: eval(x))\n",
    "df_cat['tm_scores_mean'] = df_cat['tm_scores'].apply(lambda x: sum(x)/len(x))\n",
    "\n",
    "df = df_cat.groupby('length').apply(lambda x: x['tm_scores_mean'].mean())\n",
    "df = df.reset_index()\n",
    "df.columns = ['length', 'inner-TM']\n",
    "# plt.figure(figsize=(10, 6))\n",
    "sns.barplot(x='length', y='inner-TM', data=df, palette=\"Spectral\", edgecolor=\"black\")\n",
    "plt.xlabel('Length', fontdict={'size': 18})\n",
    "plt.ylabel('inner-TM', fontdict={'size': 18})\n",
    "plt.xticks(size=14)\n",
    "plt.yticks(size=14)\n",
    "plt.show()"
   ]
  },
  {
   "cell_type": "markdown",
   "metadata": {},
   "source": [
    "# Novelty Analysis"
   ]
  },
  {
   "cell_type": "code",
   "execution_count": 21,
   "metadata": {},
   "outputs": [],
   "source": [
    "df_length = []\n",
    "def load_tmscore(eval_dir):\n",
    "    dfs = []\n",
    "    for path in glob.glob(eval_dir + \"/**/inter_tmscore.csv\"):\n",
    "        print(path)\n",
    "        df = pd.read_csv(path)\n",
    "        length = path.split('/')[-2].split('_')[-1]\n",
    "        df['length'] = [length] * len(df)\n",
    "        dfs.append(df)\n",
    "    df_cat = pd.concat(dfs)\n",
    "    df_cat = df_cat.sort_values(\"length\")\n",
    "    return df_cat"
   ]
  },
  {
   "cell_type": "code",
   "execution_count": 32,
   "metadata": {},
   "outputs": [
    {
     "name": "stdout",
     "output_type": "stream",
     "text": [
      "../generation-results/dplm_650m/novelty/iter_500_L_100/inter_tmscore.csv\n",
      "../generation-results/dplm_650m/novelty/iter_500_L_200/inter_tmscore.csv\n",
      "../generation-results/dplm_650m/novelty/iter_500_L_300/inter_tmscore.csv\n",
      "../generation-results/dplm_650m/novelty/iter_500_L_400/inter_tmscore.csv\n",
      "../generation-results/dplm_650m/novelty/iter_500_L_500/inter_tmscore.csv\n"
     ]
    },
    {
     "name": "stderr",
     "output_type": "stream",
     "text": [
      "/tmp/ipykernel_13209/297249591.py:6: DeprecationWarning: DataFrameGroupBy.apply operated on the grouping columns. This behavior is deprecated, and in a future version of pandas the grouping columns will be excluded from the operation. Either pass `include_groups=False` to exclude the groupings or explicitly select the grouping columns after groupby to silence this warning.\n",
      "  df = df_cat.groupby('length').apply(lambda x: x['tm_scores_max'].mean())\n",
      "/tmp/ipykernel_13209/297249591.py:10: FutureWarning: \n",
      "\n",
      "Passing `palette` without assigning `hue` is deprecated and will be removed in v0.14.0. Assign the `x` variable to `hue` and set `legend=False` for the same effect.\n",
      "\n",
      "  sns.barplot(x='length', y='pdb-TM', data=df, palette=\"Spectral\", edgecolor=\"black\")\n"
     ]
    },
    {
     "data": {
      "image/png": "[encoded data removed]",
      "text/plain": [
       "<Figure size 640x480 with 1 Axes>"
      ]
     },
     "metadata": {},
     "output_type": "display_data"
    }
   ],
   "source": [
    "dir_path = \"../generation-results/dplm_650m/novelty\"\n",
    "df_cat = load_tmscore(dir_path)\n",
    "df_cat['tm_scores'] = df_cat['tm_scores'].apply(lambda x: eval(x))\n",
    "df_cat['tm_scores_max'] = df_cat['tm_scores'].apply(lambda x: max(x))\n",
    "\n",
    "df = df_cat.groupby('length').apply(lambda x: x['tm_scores_max'].mean())\n",
    "df = df.reset_index()\n",
    "df.columns = ['length', 'pdb-TM']\n",
    "# plt.figure(figsize=(10, 6))\n",
    "sns.barplot(x='length', y='pdb-TM', data=df, palette=\"Spectral\", edgecolor=\"black\")\n",
    "plt.xlabel('Length', fontdict={'size': 18})\n",
    "plt.ylabel('pdb-TM', fontdict={'size': 18})\n",
    "plt.xticks(size=14)\n",
    "plt.yticks(size=14)\n",
    "plt.show()"
   ]
  }
 ],
 "metadata": {
  "kernelspec": {
   "display_name": "plm",
   "language": "python",
   "name": "python3"
  },
  "language_info": {
   "codemirror_mode": {
    "name": "ipython",
    "version": 3
   },
   "file_extension": ".py",
   "mimetype": "text/x-python",
   "name": "python",
   "nbconvert_exporter": "python",
   "pygments_lexer": "ipython3",
   "version": "3.9.12"
  }
 },
 "nbformat": 4,
 "nbformat_minor": 2
}
